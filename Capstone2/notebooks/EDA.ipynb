{
 "cells": [
  {
   "cell_type": "code",
   "execution_count": 36,
   "id": "56775069-afa3-4143-b024-c98373314a6c",
   "metadata": {},
   "outputs": [
    {
     "ename": "SyntaxError",
     "evalue": "invalid syntax (2383782876.py, line 3)",
     "output_type": "error",
     "traceback": [
      "\u001b[1;36m  Cell \u001b[1;32mIn[36], line 3\u001b[1;36m\u001b[0m\n\u001b[1;33m    The null hypothesis (H0) states that there is no effect of any of the features on the likelihood of customers exiting the bank. In mathematical terms, this can be represented as follows:\u001b[0m\n\u001b[1;37m        ^\u001b[0m\n\u001b[1;31mSyntaxError\u001b[0m\u001b[1;31m:\u001b[0m invalid syntax\n"
     ]
    }
   ],
   "source": [
    "## Null Hypothesis\n",
    "\n",
    "The null hypothesis (H0) states that there is no effect of any of the features on the likelihood of customers exiting the bank. In mathematical terms, this can be represented as follows:\n",
    "\n",
    "- **H0:** The variations in the features (such as age, balance, geography, gender, etc.) do not lead to significant changes in the customer exit rates.\n",
    "\n",
    "This hypothesis suggests that any observed differences in exit rates across different customer segments are due to randomness or other factors not captured by the features in our dataset.\n"
   ]
  },
  {
   "cell_type": "code",
   "execution_count": null,
   "id": "815104ee-c881-43d1-9012-186415f22a8f",
   "metadata": {},
   "outputs": [],
   "source": [
    "import pandas as pd\n",
    "import numpy as np\n",
    "import matplotlib.pyplot as plt\n",
    "import seaborn as sns\n",
    "from ydata_profiling import ProfileReport\n",
    "%matplotlib inline\n",
    "\n",
    "file = 'cleaned-A.csv'\n",
    "bank_data = pd.read_csv(file)"
   ]
  },
  {
   "cell_type": "code",
   "execution_count": null,
   "id": "852e52d2-9a8f-4ca9-a5c5-ce47bc894bd8",
   "metadata": {},
   "outputs": [],
   "source": [
    "bank_data.head()"
   ]
  },
  {
   "cell_type": "code",
   "execution_count": null,
   "id": "6a27c5d3-3f29-466e-bf03-79b242cf1e17",
   "metadata": {},
   "outputs": [],
   "source": [
    "bank_data.drop(columns='Unnamed: 0', inplace=True)"
   ]
  },
  {
   "cell_type": "code",
   "execution_count": null,
   "id": "3311e88b-8950-46f0-b5dc-2193cabb9fee",
   "metadata": {},
   "outputs": [],
   "source": [
    "bank_data.head()"
   ]
  },
  {
   "cell_type": "code",
   "execution_count": null,
   "id": "638c001c-db45-40a2-802d-a8f4cc2aa0dc",
   "metadata": {},
   "outputs": [],
   "source": [
    "bank_data['Gender'] = bank_data['Gender'].map({'Male': 1, 'Female': 0})\n",
    "if 'Geography' in bank_data.columns:\n",
    "    bank_data = pd.get_dummies(bank_data, columns=['Geography'], drop_first=True)\n",
    "\n",
    "# You may need to handle other non-numeric columns in a similar way.\n",
    "\n",
    "# Now, compute the correlation matrix\n",
    "corr_matrix_encoded = bank_data.corr()\n",
    "\n",
    "# Set up the matplotlib figure\n",
    "plt.figure(figsize=(12, 8))\n",
    "\n",
    "# Generate a heatmap\n",
    "sns.heatmap(corr_matrix_encoded, annot=True, fmt=\".2f\", cmap='coolwarm', cbar=True)\n",
    "\n",
    "# Set titles and labels for better readability\n",
    "plt.title('Heatmap of Bank Data Correlation Matrix')\n",
    "plt.xlabel('Features')\n",
    "plt.ylabel('Features')\n",
    "\n",
    "# Display the heatmap\n",
    "plt.show()"
   ]
  },
  {
   "cell_type": "code",
   "execution_count": null,
   "id": "9cecb47d-ee25-4ad9-9e1c-13f2982718bb",
   "metadata": {},
   "outputs": [],
   "source": [
    "# Analysis of Customer Churn by Age\n",
    "\n",
    "## Key Findings\n",
    "\n",
    "Our statistical analysis has revealed a **moderate positive correlation** between the age of customers and the likelihood of churn, with a **correlation coefficient** of **0.34076816340757715**. This indicates that older customers tend to exit more than younger ones. This pattern suggests a segment of the customer base that is more likely to churn, warranting further investigation into the reasons behind this trend.\n",
    "This can be seen through the following plots.\n",
    "### For Older Customers\n",
    "\n",
    "- **Understanding Needs**: It’s crucial to delve deeper into understanding the specific needs and preferences of older customers. Are there services or aspects of the customer experience that are not meeting their expectations?\n",
    "\n",
    "- **Customization**: Tailor services and communication to address the unique needs of older customers. This could involve offering products that appeal more to their lifestyle or providing more accessible customer support.\n",
    "\n",
    "- **Engagement**: Increase engagement with older customers through targeted communication strategies that resonate with their preferences and habits.\n",
    "\n",
    "### For Younger Customers\n",
    "\n",
    "- **Retention Strategies**: While younger customers are less likely to churn according to the correlation, Implementing retention strategies that keep younger patrons happy and satisfied with the services.\n",
    "\n",
    "- **Innovation and Technology**: Leverage technology and innovative services that appeal to younger customers. This demographic is often more tech-savvy and might appreciate digital-first approaches, mobile services, and online communities..\n",
    "\n"
   ]
  },
  {
   "cell_type": "code",
   "execution_count": 37,
   "id": "cbb2d8f5-c71f-4ccf-b705-05dc290b42df",
   "metadata": {},
   "outputs": [
    {
     "ename": "KeyError",
     "evalue": "'Age_Standardized'",
     "output_type": "error",
     "traceback": [
      "\u001b[1;31m---------------------------------------------------------------------------\u001b[0m",
      "\u001b[1;31mKeyError\u001b[0m                                  Traceback (most recent call last)",
      "File \u001b[1;32m~\\anaconda3\\Lib\\site-packages\\pandas\\core\\indexes\\base.py:3791\u001b[0m, in \u001b[0;36mIndex.get_loc\u001b[1;34m(self, key)\u001b[0m\n\u001b[0;32m   3790\u001b[0m \u001b[38;5;28;01mtry\u001b[39;00m:\n\u001b[1;32m-> 3791\u001b[0m     \u001b[38;5;28;01mreturn\u001b[39;00m \u001b[38;5;28mself\u001b[39m\u001b[38;5;241m.\u001b[39m_engine\u001b[38;5;241m.\u001b[39mget_loc(casted_key)\n\u001b[0;32m   3792\u001b[0m \u001b[38;5;28;01mexcept\u001b[39;00m \u001b[38;5;167;01mKeyError\u001b[39;00m \u001b[38;5;28;01mas\u001b[39;00m err:\n",
      "File \u001b[1;32mindex.pyx:152\u001b[0m, in \u001b[0;36mpandas._libs.index.IndexEngine.get_loc\u001b[1;34m()\u001b[0m\n",
      "File \u001b[1;32mindex.pyx:181\u001b[0m, in \u001b[0;36mpandas._libs.index.IndexEngine.get_loc\u001b[1;34m()\u001b[0m\n",
      "File \u001b[1;32mpandas\\_libs\\hashtable_class_helper.pxi:7080\u001b[0m, in \u001b[0;36mpandas._libs.hashtable.PyObjectHashTable.get_item\u001b[1;34m()\u001b[0m\n",
      "File \u001b[1;32mpandas\\_libs\\hashtable_class_helper.pxi:7088\u001b[0m, in \u001b[0;36mpandas._libs.hashtable.PyObjectHashTable.get_item\u001b[1;34m()\u001b[0m\n",
      "\u001b[1;31mKeyError\u001b[0m: 'Age_Standardized'",
      "\nThe above exception was the direct cause of the following exception:\n",
      "\u001b[1;31mKeyError\u001b[0m                                  Traceback (most recent call last)",
      "Cell \u001b[1;32mIn[37], line 9\u001b[0m\n\u001b[0;32m      5\u001b[0m corr_matrix \u001b[38;5;241m=\u001b[39m numeric_columns\u001b[38;5;241m.\u001b[39mcorr()\n\u001b[0;32m      7\u001b[0m \u001b[38;5;66;03m# Look specifically at the correlation between 'Age_Standardized' and 'Exited'\u001b[39;00m\n\u001b[0;32m      8\u001b[0m \u001b[38;5;66;03m# Assuming 'Exited' is a numeric column (0 or 1 for example in case of classification)\u001b[39;00m\n\u001b[1;32m----> 9\u001b[0m age_exited_correlation \u001b[38;5;241m=\u001b[39m corr_matrix\u001b[38;5;241m.\u001b[39mloc[\u001b[38;5;124m'\u001b[39m\u001b[38;5;124mAge_Standardized\u001b[39m\u001b[38;5;124m'\u001b[39m, \u001b[38;5;124m'\u001b[39m\u001b[38;5;124mExited\u001b[39m\u001b[38;5;124m'\u001b[39m]\n\u001b[0;32m     11\u001b[0m \u001b[38;5;66;03m# Output the correlation value\u001b[39;00m\n\u001b[0;32m     12\u001b[0m \u001b[38;5;28mprint\u001b[39m(\u001b[38;5;124m\"\u001b[39m\u001b[38;5;124mCorrelation between standardized age and churn:\u001b[39m\u001b[38;5;124m\"\u001b[39m, age_exited_correlation)\n",
      "File \u001b[1;32m~\\anaconda3\\Lib\\site-packages\\pandas\\core\\indexing.py:1146\u001b[0m, in \u001b[0;36m_LocationIndexer.__getitem__\u001b[1;34m(self, key)\u001b[0m\n\u001b[0;32m   1144\u001b[0m     key \u001b[38;5;241m=\u001b[39m \u001b[38;5;28mtuple\u001b[39m(com\u001b[38;5;241m.\u001b[39mapply_if_callable(x, \u001b[38;5;28mself\u001b[39m\u001b[38;5;241m.\u001b[39mobj) \u001b[38;5;28;01mfor\u001b[39;00m x \u001b[38;5;129;01min\u001b[39;00m key)\n\u001b[0;32m   1145\u001b[0m     \u001b[38;5;28;01mif\u001b[39;00m \u001b[38;5;28mself\u001b[39m\u001b[38;5;241m.\u001b[39m_is_scalar_access(key):\n\u001b[1;32m-> 1146\u001b[0m         \u001b[38;5;28;01mreturn\u001b[39;00m \u001b[38;5;28mself\u001b[39m\u001b[38;5;241m.\u001b[39mobj\u001b[38;5;241m.\u001b[39m_get_value(\u001b[38;5;241m*\u001b[39mkey, takeable\u001b[38;5;241m=\u001b[39m\u001b[38;5;28mself\u001b[39m\u001b[38;5;241m.\u001b[39m_takeable)\n\u001b[0;32m   1147\u001b[0m     \u001b[38;5;28;01mreturn\u001b[39;00m \u001b[38;5;28mself\u001b[39m\u001b[38;5;241m.\u001b[39m_getitem_tuple(key)\n\u001b[0;32m   1148\u001b[0m \u001b[38;5;28;01melse\u001b[39;00m:\n\u001b[0;32m   1149\u001b[0m     \u001b[38;5;66;03m# we by definition only have the 0th axis\u001b[39;00m\n",
      "File \u001b[1;32m~\\anaconda3\\Lib\\site-packages\\pandas\\core\\frame.py:4012\u001b[0m, in \u001b[0;36mDataFrame._get_value\u001b[1;34m(self, index, col, takeable)\u001b[0m\n\u001b[0;32m   4006\u001b[0m engine \u001b[38;5;241m=\u001b[39m \u001b[38;5;28mself\u001b[39m\u001b[38;5;241m.\u001b[39mindex\u001b[38;5;241m.\u001b[39m_engine\n\u001b[0;32m   4008\u001b[0m \u001b[38;5;28;01mif\u001b[39;00m \u001b[38;5;129;01mnot\u001b[39;00m \u001b[38;5;28misinstance\u001b[39m(\u001b[38;5;28mself\u001b[39m\u001b[38;5;241m.\u001b[39mindex, MultiIndex):\n\u001b[0;32m   4009\u001b[0m     \u001b[38;5;66;03m# CategoricalIndex: Trying to use the engine fastpath may give incorrect\u001b[39;00m\n\u001b[0;32m   4010\u001b[0m     \u001b[38;5;66;03m#  results if our categories are integers that dont match our codes\u001b[39;00m\n\u001b[0;32m   4011\u001b[0m     \u001b[38;5;66;03m# IntervalIndex: IntervalTree has no get_loc\u001b[39;00m\n\u001b[1;32m-> 4012\u001b[0m     row \u001b[38;5;241m=\u001b[39m \u001b[38;5;28mself\u001b[39m\u001b[38;5;241m.\u001b[39mindex\u001b[38;5;241m.\u001b[39mget_loc(index)\n\u001b[0;32m   4013\u001b[0m     \u001b[38;5;28;01mreturn\u001b[39;00m series\u001b[38;5;241m.\u001b[39m_values[row]\n\u001b[0;32m   4015\u001b[0m \u001b[38;5;66;03m# For MultiIndex going through engine effectively restricts us to\u001b[39;00m\n\u001b[0;32m   4016\u001b[0m \u001b[38;5;66;03m#  same-length tuples; see test_get_set_value_no_partial_indexing\u001b[39;00m\n",
      "File \u001b[1;32m~\\anaconda3\\Lib\\site-packages\\pandas\\core\\indexes\\base.py:3798\u001b[0m, in \u001b[0;36mIndex.get_loc\u001b[1;34m(self, key)\u001b[0m\n\u001b[0;32m   3793\u001b[0m     \u001b[38;5;28;01mif\u001b[39;00m \u001b[38;5;28misinstance\u001b[39m(casted_key, \u001b[38;5;28mslice\u001b[39m) \u001b[38;5;129;01mor\u001b[39;00m (\n\u001b[0;32m   3794\u001b[0m         \u001b[38;5;28misinstance\u001b[39m(casted_key, abc\u001b[38;5;241m.\u001b[39mIterable)\n\u001b[0;32m   3795\u001b[0m         \u001b[38;5;129;01mand\u001b[39;00m \u001b[38;5;28many\u001b[39m(\u001b[38;5;28misinstance\u001b[39m(x, \u001b[38;5;28mslice\u001b[39m) \u001b[38;5;28;01mfor\u001b[39;00m x \u001b[38;5;129;01min\u001b[39;00m casted_key)\n\u001b[0;32m   3796\u001b[0m     ):\n\u001b[0;32m   3797\u001b[0m         \u001b[38;5;28;01mraise\u001b[39;00m InvalidIndexError(key)\n\u001b[1;32m-> 3798\u001b[0m     \u001b[38;5;28;01mraise\u001b[39;00m \u001b[38;5;167;01mKeyError\u001b[39;00m(key) \u001b[38;5;28;01mfrom\u001b[39;00m \u001b[38;5;21;01merr\u001b[39;00m\n\u001b[0;32m   3799\u001b[0m \u001b[38;5;28;01mexcept\u001b[39;00m \u001b[38;5;167;01mTypeError\u001b[39;00m:\n\u001b[0;32m   3800\u001b[0m     \u001b[38;5;66;03m# If we have a listlike key, _check_indexing_error will raise\u001b[39;00m\n\u001b[0;32m   3801\u001b[0m     \u001b[38;5;66;03m#  InvalidIndexError. Otherwise we fall through and re-raise\u001b[39;00m\n\u001b[0;32m   3802\u001b[0m     \u001b[38;5;66;03m#  the TypeError.\u001b[39;00m\n\u001b[0;32m   3803\u001b[0m     \u001b[38;5;28mself\u001b[39m\u001b[38;5;241m.\u001b[39m_check_indexing_error(key)\n",
      "\u001b[1;31mKeyError\u001b[0m: 'Age_Standardized'"
     ]
    }
   ],
   "source": [
    "# Select only the numeric columns for correlation computation\n",
    "numeric_columns = bank_data.select_dtypes(include=[np.number])\n",
    "\n",
    "# Calculate the correlation matrix for numeric columns only\n",
    "corr_matrix = numeric_columns.corr()\n",
    "\n",
    "# Look specifically at the correlation between 'Age_Standardized' and 'Exited'\n",
    "# Assuming 'Exited' is a numeric column (0 or 1 for example in case of classification)\n",
    "age_exited_correlation = corr_matrix.loc['Age_Standardized', 'Exited']\n",
    "\n",
    "# Output the correlation value\n",
    "print(\"Correlation between standardized age and churn:\", age_exited_correlation)"
   ]
  },
  {
   "cell_type": "code",
   "execution_count": null,
   "id": "0bca6153-437b-4951-ac11-58ee5b9f4e3b",
   "metadata": {},
   "outputs": [],
   "source": [
    "bins = [18, 30, 40, 50, 60, 70, 80]\n",
    "labels = ['18-29', '30-39', '40-49', '50-59', '60-69', '70+']\n",
    "bank_data['AgeGroup'] = pd.cut(bank_data['Age'], bins=bins, labels=labels, right=False)\n",
    "import matplotlib.pyplot as plt\n",
    "\n",
    "# Assuming bank_data is your DataFrame and it now includes the 'AgeGroup' column\n",
    "\n",
    "# Calculate counts of entries in each AgeGroup\n",
    "age_group_counts = bank_data['AgeGroup'].value_counts().sort_index()\n",
    "\n",
    "# Plotting\n",
    "plt.figure(figsize=(10, 6))  # Set the figure size (optional)\n",
    "age_group_counts.plot(kind='bar')\n",
    "plt.title('Distribution of Age Groups')\n",
    "plt.xlabel('Age Group')\n",
    "plt.ylabel('Count')\n",
    "plt.xticks(rotation=45)  # Rotate labels to make them readable\n",
    "plt.show()"
   ]
  },
  {
   "cell_type": "code",
   "execution_count": null,
   "id": "d17820c4-e18f-4388-9b40-6697d2f354bf",
   "metadata": {},
   "outputs": [],
   "source": [
    "# Create the box plot for Age distribution by Exited status\n",
    "plt.figure(figsize=(10, 6))\n",
    "sns.boxplot(x='Exited', y='Age', data=bank_data)\n",
    "\n",
    "# Set titles and labels\n",
    "plt.title('Age Distribution by Exited Status')\n",
    "plt.xlabel('Exited Status (0 = No, 1 = Yes)')\n",
    "plt.ylabel('Age')\n",
    "\n",
    "# Display the plot\n",
    "plt.show()"
   ]
  },
  {
   "cell_type": "code",
   "execution_count": null,
   "id": "a7f29d97-38ae-4170-9bba-7ee71c50b0cf",
   "metadata": {},
   "outputs": [],
   "source": [
    "This shows that more older customers are exiting then youn and middle aged patrons."
   ]
  },
  {
   "cell_type": "code",
   "execution_count": null,
   "id": "406937cd-f2ab-4e15-bfc6-e4e69c9c9015",
   "metadata": {},
   "outputs": [],
   "source": [
    "## Correlation Analysis: NumOfProducts and Exited\n",
    "\n",
    "Our data analysis revealed a moderately negative correlation between `NumOfProducts` and `Exited`, with a correlation coefficient of -0.21. This suggests that customers who engage with more products offered by the bank are less likely to exit. Specifically, the negative value indicates an inverse relationship; as the number of products increases, the likelihood of customer exit decreases.\n",
    "\n",
    "### Implications\n",
    "\n",
    "This finding may indicate that having multiple products could be a significant factor in customer retention strategies. It implies that efforts to encourage customers to use a wider range of products may  reduce the churn rate.\n",
    "\n",
    "**Key Insight:**\n",
    "- Engaging customers with more products appears to be beneficial in terms of retention. Banks should consider strategies that promote the use of multiple products to their customers."
   ]
  },
  {
   "cell_type": "code",
   "execution_count": null,
   "id": "e6285e7f-3fa7-45ac-85b7-99fbd9130ec0",
   "metadata": {},
   "outputs": [],
   "source": [
    "bank_data.replace([np.inf, -np.inf], np.nan, inplace=True)\n",
    "\n",
    "# Calculate churn rate by number of products\n",
    "churn_rate_by_product = bank_data.groupby('NumOfProducts')['Exited'].mean().reset_index()\n",
    "\n",
    "# Calculate the number of customers for each number of products\n",
    "customer_count_by_product = bank_data.groupby('NumOfProducts')['Exited'].size().reset_index(name='CustomerCount')\n",
    "\n",
    "# Merge the two DataFrames\n",
    "merged_data = pd.merge(churn_rate_by_product, customer_count_by_product, on='NumOfProducts')\n",
    "\n",
    "# Create a figure with a secondary y-axis\n",
    "fig, ax1 = plt.subplots(figsize=(10, 6))\n",
    "\n",
    "# Bar plot for customer counts\n",
    "sns.barplot(x='NumOfProducts', y='CustomerCount', data=merged_data, ax=ax1, alpha=0.5, color='gray')\n",
    "\n",
    "# Line plot for churn rate\n",
    "ax2 = ax1.twinx()\n",
    "sns.lineplot(x='NumOfProducts', y='Exited', data=merged_data, ax=ax2, marker='o', color='blue', linewidth=2)\n",
    "\n",
    "# Labels and title\n",
    "ax1.set_xlabel('Number of Products')\n",
    "ax1.set_ylabel('Customer Count', color='gray')\n",
    "ax2.set_ylabel('Churn Rate', color='blue')\n",
    "plt.title('Customer Churn Rate and Count by Number of Products')\n",
    "\n",
    "# Show the plot\n",
    "plt.show()\n"
   ]
  },
  {
   "cell_type": "code",
   "execution_count": null,
   "id": "ea3e4945-4f70-4a44-8710-4e5c8f99068a",
   "metadata": {},
   "outputs": [],
   "source": [
    "This shows alot more churn among people with less products on their account"
   ]
  },
  {
   "cell_type": "code",
   "execution_count": null,
   "id": "19693493-4735-40b7-88d3-7e94383f24b5",
   "metadata": {},
   "outputs": [],
   "source": [
    "bank_data.columns"
   ]
  },
  {
   "cell_type": "code",
   "execution_count": null,
   "id": "09f74111-55ef-49d8-8600-202e921a17cb",
   "metadata": {},
   "outputs": [],
   "source": [
    "import pandas as pd\n",
    "from sklearn.decomposition import PCA\n",
    "from sklearn.preprocessing import StandardScaler\n",
    "import matplotlib.pyplot as plt\n",
    "import seaborn as sns\n",
    "\n",
    "# Step 2: Preprocess the data\n",
    "# Select numeric features, excluding 'Exited' for PCA\n",
    "numeric_features = bank_data.select_dtypes(include=[np.number]).drop(columns=['Exited'], errors='ignore')\n",
    "\n",
    "# Standardize the features\n",
    "scaler = StandardScaler()\n",
    "scaled_features = scaler.fit_transform(numeric_features)\n",
    "\n",
    "# Step 3: Apply PCA\n",
    "pca = PCA(n_components=2)  # Reduce to 2 components for visualization\n",
    "pca_result = pca.fit_transform(scaled_features)\n",
    "\n",
    "# Step 4: Create the pca_df DataFrame\n",
    "pca_df = pd.DataFrame(data=pca_result, columns=['Principal Component 1', 'Principal Component 2'])\n",
    "\n",
    "# Adding the 'Exited' column for color-coding in the plot\n",
    "pca_df['Exited'] = bank_data['Exited']\n",
    "\n",
    "# Now pca_df is ready and contains the PCA results along with the 'Exited' status"
   ]
  },
  {
   "cell_type": "code",
   "execution_count": 38,
   "id": "fd922dcb-2540-48d2-861a-403fa3d9b8d3",
   "metadata": {},
   "outputs": [
    {
     "ename": "NameError",
     "evalue": "name 'pca_df' is not defined",
     "output_type": "error",
     "traceback": [
      "\u001b[1;31m---------------------------------------------------------------------------\u001b[0m",
      "\u001b[1;31mNameError\u001b[0m                                 Traceback (most recent call last)",
      "Cell \u001b[1;32mIn[38], line 3\u001b[0m\n\u001b[0;32m      1\u001b[0m \u001b[38;5;66;03m# Plotting the PCA results, colored by 'Exited' status\u001b[39;00m\n\u001b[0;32m      2\u001b[0m plt\u001b[38;5;241m.\u001b[39mfigure(figsize\u001b[38;5;241m=\u001b[39m(\u001b[38;5;241m10\u001b[39m, \u001b[38;5;241m8\u001b[39m))\n\u001b[1;32m----> 3\u001b[0m sns\u001b[38;5;241m.\u001b[39mscatterplot(x\u001b[38;5;241m=\u001b[39m\u001b[38;5;124m'\u001b[39m\u001b[38;5;124mPrincipal Component 1\u001b[39m\u001b[38;5;124m'\u001b[39m, y\u001b[38;5;241m=\u001b[39m\u001b[38;5;124m'\u001b[39m\u001b[38;5;124mPrincipal Component 2\u001b[39m\u001b[38;5;124m'\u001b[39m, hue\u001b[38;5;241m=\u001b[39m\u001b[38;5;124m'\u001b[39m\u001b[38;5;124mExited\u001b[39m\u001b[38;5;124m'\u001b[39m, data\u001b[38;5;241m=\u001b[39mpca_df, palette\u001b[38;5;241m=\u001b[39m\u001b[38;5;124m'\u001b[39m\u001b[38;5;124mcoolwarm\u001b[39m\u001b[38;5;124m'\u001b[39m, alpha\u001b[38;5;241m=\u001b[39m\u001b[38;5;241m0.6\u001b[39m)\n\u001b[0;32m      4\u001b[0m plt\u001b[38;5;241m.\u001b[39mtitle(\u001b[38;5;124m'\u001b[39m\u001b[38;5;124mPCA of Bank Dataset by Churn Status\u001b[39m\u001b[38;5;124m'\u001b[39m)\n\u001b[0;32m      5\u001b[0m plt\u001b[38;5;241m.\u001b[39mxlabel(\u001b[38;5;124m'\u001b[39m\u001b[38;5;124mPrincipal Component 1\u001b[39m\u001b[38;5;124m'\u001b[39m)\n",
      "\u001b[1;31mNameError\u001b[0m: name 'pca_df' is not defined"
     ]
    },
    {
     "data": {
      "text/plain": [
       "<Figure size 1000x800 with 0 Axes>"
      ]
     },
     "metadata": {},
     "output_type": "display_data"
    }
   ],
   "source": [
    "# Plotting the PCA results, colored by 'Exited' status\n",
    "plt.figure(figsize=(10, 8))\n",
    "sns.scatterplot(x='Principal Component 1', y='Principal Component 2', hue='Exited', data=pca_df, palette='coolwarm', alpha=0.6)\n",
    "plt.title('PCA of Bank Dataset by Churn Status')\n",
    "plt.xlabel('Principal Component 1')\n",
    "plt.ylabel('Principal Component 2')\n",
    "plt.legend(title='Churn Status', loc='best')\n",
    "plt.show()"
   ]
  },
  {
   "cell_type": "code",
   "execution_count": null,
   "id": "71345252-9173-49b1-8c33-0c3b54593be3",
   "metadata": {},
   "outputs": [],
   "source": [
    "```\n",
    "These observations can lead to hypothesis formation. \n",
    "For example, if the second principal component represents higher balances \n",
    "and older age, a hypothesis might be that older customers with higher \n",
    "balances are churning because they don't like the savings rates or are moving to competitors offering better terms.\n",
    "```\n"
   ]
  },
  {
   "cell_type": "code",
   "execution_count": null,
   "id": "ff4f4ded-5510-45aa-b6a4-e5ab8f6b9d6c",
   "metadata": {},
   "outputs": [],
   "source": [
    "profile = ProfileReport(bank_data,title=\"Bank Churn Profile\")\n",
    "\n",
    "# Save the report to .html\n",
    "profile.to_file(\"churn_report.html\")"
   ]
  },
  {
   "cell_type": "code",
   "execution_count": null,
   "id": "3d170ec7-4195-4f30-a1cd-62587a890c9a",
   "metadata": {},
   "outputs": [],
   "source": []
  }
 ],
 "metadata": {
  "kernelspec": {
   "display_name": "Python 3 (ipykernel)",
   "language": "python",
   "name": "python3"
  },
  "language_info": {
   "codemirror_mode": {
    "name": "ipython",
    "version": 3
   },
   "file_extension": ".py",
   "mimetype": "text/x-python",
   "name": "python",
   "nbconvert_exporter": "python",
   "pygments_lexer": "ipython3",
   "version": "3.11.7"
  }
 },
 "nbformat": 4,
 "nbformat_minor": 5
}
