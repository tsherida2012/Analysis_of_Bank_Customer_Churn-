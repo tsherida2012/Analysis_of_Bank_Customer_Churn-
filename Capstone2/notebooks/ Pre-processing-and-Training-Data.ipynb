{
 "cells": [
  {
   "cell_type": "code",
   "execution_count": 4,
   "id": "5d176065",
   "metadata": {},
   "outputs": [],
   "source": [
    "import pandas as pd\n",
    "import numpy as np\n",
    "import matplotlib.pyplot as plt\n",
    "import seaborn as sns\n",
    "from sklearn.model_selection import train_test_split\n",
    "from sklearn.preprocessing import StandardScaler"
   ]
  },
  {
   "cell_type": "code",
   "execution_count": 5,
   "id": "16bd7b72",
   "metadata": {},
   "outputs": [],
   "source": [
    "bank_data = pd.read_csv('cleaned-B.csv')"
   ]
  },
  {
   "cell_type": "code",
   "execution_count": 6,
   "id": "2b399cd2",
   "metadata": {},
   "outputs": [
    {
     "data": {
      "text/plain": [
       "((132003, 11), (33001, 11), (132003,), (33001,))"
      ]
     },
     "execution_count": 6,
     "metadata": {},
     "output_type": "execute_result"
    }
   ],
   "source": [
    "bank_data = bank_data.drop(columns=['Unnamed: 0', 'CustomerId'])\n",
    "\n",
    "# Convert categorical variables using get_dummies\n",
    "df_encoded = pd.get_dummies(bank_data, drop_first=True)\n",
    "\n",
    "# Splitting the data into features and target variable\n",
    "X = df_encoded.drop('Exited', axis=1)\n",
    "y = df_encoded['Exited']\n",
    "\n",
    "# Standardize the numeric features\n",
    "scaler = StandardScaler()\n",
    "X_scaled = scaler.fit_transform(X)\n",
    "\n",
    "# Splitting the dataset into training and testing sets\n",
    "X_train, X_test, y_train, y_test = train_test_split(X_scaled, y, test_size=0.2, random_state=42)\n",
    "\n",
    "# Output the shapes of the resulting data splits\n",
    "X_train.shape, X_test.shape, y_train.shape, y_test.shape"
   ]
  },
  {
   "cell_type": "code",
   "execution_count": null,
   "id": "68d0c277",
   "metadata": {},
   "outputs": [],
   "source": []
  }
 ],
 "metadata": {
  "kernelspec": {
   "display_name": "Python 3 (ipykernel)",
   "language": "python",
   "name": "python3"
  },
  "language_info": {
   "codemirror_mode": {
    "name": "ipython",
    "version": 3
   },
   "file_extension": ".py",
   "mimetype": "text/x-python",
   "name": "python",
   "nbconvert_exporter": "python",
   "pygments_lexer": "ipython3",
   "version": "3.11.8"
  }
 },
 "nbformat": 4,
 "nbformat_minor": 5
}
